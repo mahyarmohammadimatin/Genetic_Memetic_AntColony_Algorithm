{
 "cells": [
  {
   "cell_type": "markdown",
   "id": "4c0b0c71",
   "metadata": {},
   "source": [
    "# MahyarMohammadi-610398166-Genetic Algorithm for TSP"
   ]
  },
  {
   "cell_type": "markdown",
   "id": "be8d96dd",
   "metadata": {},
   "source": [
    "### First let's import some librarys"
   ]
  },
  {
   "cell_type": "code",
   "execution_count": 2,
   "id": "222a40ff",
   "metadata": {},
   "outputs": [],
   "source": [
    "import numpy as np\n",
    "import pandas as pd\n",
    "import matplotlib as plt\n",
    "import random\n",
    "from math import sqrt"
   ]
  },
  {
   "cell_type": "markdown",
   "id": "e07e03ec",
   "metadata": {},
   "source": [
    "### This function will get the testcase bayg29"
   ]
  },
  {
   "cell_type": "code",
   "execution_count": 3,
   "id": "e375a344",
   "metadata": {},
   "outputs": [],
   "source": [
    "def getMat(path):\n",
    "    #get from directory\n",
    "    f = open(path)\n",
    "    inp = f.read()\n",
    "    f.close()\n",
    "    \n",
    "    #decode data and cleaning\n",
    "    size = int(inp.split('\\n')[3].split(':')[-1].strip())\n",
    "    inpMat = [[int(item.strip()) for item in row.strip().split()] for row in inp.split('\\n')[8:36]]\n",
    "    \n",
    "    #make adjacency matrix\n",
    "    mat = [[0 for _ in range(size)] for _ in range(size)]\n",
    "    for i in range(size-1):\n",
    "        for j in range(size-i-1):\n",
    "            mat[i][j+i+1] = inpMat[i][j]\n",
    "            mat[j+i+1][i] = inpMat[i][j]\n",
    "            \n",
    "    return size,mat"
   ]
  },
  {
   "cell_type": "markdown",
   "id": "d6ebc65c",
   "metadata": {},
   "source": [
    "### Define fitness function"
   ]
  },
  {
   "cell_type": "code",
   "execution_count": 45,
   "id": "14d5d502",
   "metadata": {},
   "outputs": [],
   "source": [
    "def fitFunc(chromosome):\n",
    "    path=0\n",
    "    for i in range(size):\n",
    "        gene1 = chromosome[i]\n",
    "        gene2 = chromosome[i+1 if(i+1<size) else 0]\n",
    "        path+=mat[gene1][gene2]\n",
    "    return 10000-path"
   ]
  },
  {
   "cell_type": "code",
   "execution_count": 68,
   "id": "d41df420",
   "metadata": {},
   "outputs": [
    {
     "data": {
      "text/plain": [
       "1620"
      ]
     },
     "execution_count": 68,
     "metadata": {},
     "output_type": "execute_result"
    }
   ],
   "source": [
    "a = [14, 17, 13, 16, 21, 10, 18, 24, 6, 22, 26, 7, 23, 15, 12, 0, 27, 5, 11, 8, 25, 2, 28, 4, 20, 1, 19, 9, 3]\n",
    "10000-fitFunc(a)"
   ]
  },
  {
   "cell_type": "markdown",
   "id": "09d09273",
   "metadata": {},
   "source": [
    "### select first society"
   ]
  },
  {
   "cell_type": "code",
   "execution_count": 5,
   "id": "c04577f9",
   "metadata": {},
   "outputs": [],
   "source": [
    "def getSociety():\n",
    "    chromosomes = [np.random.permutation(range(size)) for _ in range(sp)]\n",
    "    fitnesses = [fitFunc(chromosome) for chromosome in chromosomes]\n",
    "    society = pd.DataFrame({'chromosomes':chromosomes,'fitnesses':fitnesses})\n",
    "    society = society.sort_values(by='fitnesses').reset_index().drop(['index'],axis=1)\n",
    "    return society"
   ]
  },
  {
   "cell_type": "markdown",
   "id": "5eae15cb",
   "metadata": {},
   "source": [
    "### Define 2 Selection functions"
   ]
  },
  {
   "cell_type": "code",
   "execution_count": 6,
   "id": "695014ba",
   "metadata": {},
   "outputs": [],
   "source": [
    "#select choromosoms that have more fitnesses score than the input quantile\n",
    "def truncation_selection(society):\n",
    "    return society.tail(int(pc*len(society)/100))\n",
    "\n",
    "#select choromosoms with probablity based on their ranks \n",
    "def proportional_selection(society):\n",
    "    size = int(pc*len(society)/100)\n",
    "    soc = society.copy()\n",
    "    tot = sum(range(len(soc)))\n",
    "    probs = [i/tot for i in range(len(soc))]\n",
    "    selected = np.random.choice(list(range(len(soc))),size,p=probs,replace=False)\n",
    "\n",
    "    selected = list(selected)+list(range(len(soc)))[int(0.09*len(soc)):]\n",
    "    selected = selected[len(selected):len(selected)-size-1:-1]\n",
    "\n",
    "    return soc.loc[selected,]\n"
   ]
  },
  {
   "cell_type": "markdown",
   "id": "2461f085",
   "metadata": {},
   "source": [
    "### here we define Crossover function"
   ]
  },
  {
   "cell_type": "code",
   "execution_count": 29,
   "id": "ce41048b",
   "metadata": {},
   "outputs": [],
   "source": [
    "def generate_children(parents):\n",
    "    #Order Recombination\n",
    "    def orderRec(couple):\n",
    "        dad,mom = couple\n",
    "        child = [-1]*len(dad)\n",
    "        middle = len(dad)//2\n",
    "        k = middle//2\n",
    "\n",
    "        start = middle-k if middle-k>0 else 0\n",
    "        end = middle+k\n",
    "        dadInherit = dad[start:end]\n",
    "        child[start:end]=dadInherit\n",
    "        child_set = set(child)\n",
    "        i=end\n",
    "        j=end\n",
    "        while(i!=start):\n",
    "            if(i==len(dad)):i=0\n",
    "            while(mom[j] in child_set):j = j+1 if j+1!=len(mom) else 0\n",
    "            child_set.add(mom[j])\n",
    "            child[i] = mom[j]\n",
    "            i+=1\n",
    "        return child\n",
    "        \n",
    "        \n",
    "    #first set couples\n",
    "    def getCouples(parents):\n",
    "        shuffle = np.random.choice(parents.chromosomes,len(parents),replace=False)\n",
    "        return tuple(zip(shuffle[:len(shuffle)//2],shuffle[len(shuffle)//2:]))\n",
    "    \n",
    "    #Mutation\n",
    "    def mutation(children):\n",
    "        #Scramble Mutation\n",
    "        def mutate(child):\n",
    "            i,j = np.random.choice(list(range(len(child))),2,replace=False)\n",
    "            if(i>j): i,j = j,i\n",
    "            child[i:j] = np.random.choice(child[i:j],j-i,replace=False)\n",
    "            return\n",
    "        \n",
    "        #Scramble Reverse Mutation\n",
    "        def mutate2(child):\n",
    "            i,j = np.random.choice(list(range(len(child))),2,replace=False)\n",
    "            if(i>j): i,j = j,i\n",
    "            child[i:j] = child[j:i:-1]\n",
    "            return\n",
    "            \n",
    "        for i in range(len(children)*mutRate//100):\n",
    "            mutate(children[i])\n",
    "        \n",
    "        return \n",
    "\n",
    "    count = sp*Prep//100\n",
    "    #now apply crossover function on each couple and create children until we get the number of children we want\n",
    "    children=[]\n",
    "\n",
    "    while(len(children)<count):\n",
    "        coups = getCouples(parents)\n",
    "        children=children+[orderRec(t) for t in coups]\n",
    "\n",
    "    mutation(children)\n",
    "\n",
    "    fitnesses = [fitFunc(child) for child in children]\n",
    "    \n",
    "    return pd.DataFrame({'chromosomes':children,'fitnesses':fitnesses}).head(count)"
   ]
  },
  {
   "cell_type": "markdown",
   "id": "4bba7a6f",
   "metadata": {},
   "source": [
    "### get society and children and combine them"
   ]
  },
  {
   "cell_type": "code",
   "execution_count": 8,
   "id": "3a6795bb",
   "metadata": {},
   "outputs": [],
   "source": [
    "def newGeneration(society,children):\n",
    "    res = pd.concat([children,society.loc[range(len(children),len(society))]],axis=0)\n",
    "    return res.sort_values(by='fitnesses').reset_index().drop(['index'],axis=1)\n"
   ]
  },
  {
   "cell_type": "markdown",
   "id": "8c5d3d5d",
   "metadata": {},
   "source": [
    "### print society statistic"
   ]
  },
  {
   "cell_type": "code",
   "execution_count": 9,
   "id": "660fa845",
   "metadata": {},
   "outputs": [],
   "source": [
    "def societyStat(society):\n",
    "    stat = society.fitnesses\n",
    "    return int(10000-stat.mean()),10000-stat.max()"
   ]
  },
  {
   "cell_type": "markdown",
   "id": "25df45fd",
   "metadata": {},
   "source": [
    "### Run GA with Parameters that set Globaly"
   ]
  },
  {
   "cell_type": "code",
   "execution_count": 79,
   "id": "350951b3",
   "metadata": {},
   "outputs": [],
   "source": [
    "def runAlgorithm(selectMethod='truncation'):\n",
    "    society = getSociety()\n",
    "    socMean,socMin = societyStat(society)\n",
    "    print(f\"the first generation-> Mean:{socMean},Min:{socMin}\")\n",
    "    means=[socMean]\n",
    "    mins=[socMin]\n",
    "    repetead = 0\n",
    "    lastMin = -1\n",
    "    i=0\n",
    "    while(repetead<200):\n",
    "        parents = truncation_selection(society) if selectMethod=='truncation' else proportional_selection(society)\n",
    "        childs = generate_children(parents)\n",
    "        newSociety = newGeneration(society,childs)\n",
    "        socMean,socMin = societyStat(newSociety)\n",
    "        means.append(socMean)\n",
    "        mins.append(socMin)\n",
    "        if((i+2)%1==0):print(f\"the {i+2}th generation-> Mean:{socMean},Min:{socMin}\")\n",
    "        i+=1\n",
    "        society = newSociety\n",
    "\n",
    "        if(lastMin!=socMin):\n",
    "            repetead=0\n",
    "            lastMin=socMin\n",
    "        else:repetead+=1\n",
    "    print(f\"the {i+2}th(last) generation-> Mean:{socMean},Min:{socMin}\")\n",
    "    df = pd.DataFrame({'Mean':means,'min':mins})\n",
    "    df.plot()\n",
    "    print(\"best cycle:\",society[society.fitnesses==society.fitnesses.max()]['chromosomes'].values[0])\n",
    "    return society"
   ]
  },
  {
   "cell_type": "markdown",
   "id": "a66b6fd9",
   "metadata": {},
   "source": [
    "### this is where we config our algorithm with various parameters"
   ]
  },
  {
   "cell_type": "code",
   "execution_count": 67,
   "id": "0773f9f2",
   "metadata": {},
   "outputs": [
    {
     "name": "stdout",
     "output_type": "stream",
     "text": [
      "the first generation-> Mean:4690,Min:3802\n",
      "the 50th generation-> Mean:2549,Min:2489\n",
      "the 100th generation-> Mean:2252,Min:2174\n",
      "the 126th(last) generation-> Mean:2219,Min:2174\n",
      "best cycle: [26, 22, 6, 24, 15, 23, 27, 0, 18, 14, 3, 9, 12, 5, 11, 8, 4, 28, 2, 25, 20, 19, 17, 13, 16, 21, 10, 1, 7]\n"
     ]
    },
    {
     "data": {
      "image/png": "[encoded data removed]",
      "text/plain": [
       "<Figure size 432x288 with 1 Axes>"
      ]
     },
     "metadata": {
      "needs_background": "light"
     },
     "output_type": "display_data"
    }
   ],
   "source": [
    "#these are our algorithm config\n",
    "\n",
    "#TSP adjecency matrix\n",
    "size,mat = getMat('bayg29.tsp')\n",
    "\n",
    "#society population\n",
    "sp = 200\n",
    "\n",
    "#what percent of society should we choose as parents?\n",
    "pc = 30\n",
    "\n",
    "#the percent of previuos generation that replace with children on next generation\n",
    "Prep = 80\n",
    "\n",
    "#the percent of children that get mutated\n",
    "mutRate = 10\n",
    "\n",
    "res = runAlgorithm()"
   ]
  },
  {
   "cell_type": "markdown",
   "id": "300a02f8",
   "metadata": {},
   "source": [
    "The convergence is too fast so we can incraese mutation rate "
   ]
  },
  {
   "cell_type": "markdown",
   "id": "35939c9a",
   "metadata": {},
   "source": [
    "----------------------------------------------------------------------------------------------------------------------"
   ]
  },
  {
   "cell_type": "code",
   "execution_count": null,
   "id": "62dfb7da",
   "metadata": {},
   "outputs": [],
   "source": [
    "size,mat = getMat('bayg29.tsp')\n",
    "\n",
    "sp = 200\n",
    "pc = 30\n",
    "Prep = 80\n",
    "mutRate = 20\n",
    "\n",
    "res = runAlgorithm()"
   ]
  },
  {
   "cell_type": "markdown",
   "id": "dc823c6a",
   "metadata": {},
   "source": [
    "it's not very effective. let's increase our generation population and use proportional method for selecting"
   ]
  },
  {
   "cell_type": "markdown",
   "id": "e997349a",
   "metadata": {},
   "source": [
    "----------------------------------------------------------------------------------------------------------------------"
   ]
  },
  {
   "cell_type": "code",
   "execution_count": null,
   "id": "9904b733",
   "metadata": {},
   "outputs": [],
   "source": [
    "size,mat = getMat('bayg29.tsp')\n",
    "\n",
    "sp = 1000\n",
    "pc = 50\n",
    "Prep = 50\n",
    "mutRate = 10\n",
    "\n",
    "res = runAlgorithm('proportional')"
   ]
  },
  {
   "cell_type": "code",
   "execution_count": 90,
   "id": "cd5d2eca",
   "metadata": {},
   "outputs": [
    {
     "name": "stdout",
     "output_type": "stream",
     "text": [
      "the first generation-> Mean:4724,Min:3687\n",
      "the 10th generation-> Mean:3821,Min:3201\n",
      "the 20th generation-> Mean:3425,Min:3020\n",
      "the 30th generation-> Mean:3005,Min:2492\n",
      "the 40th generation-> Mean:2645,Min:2348\n",
      "the 50th generation-> Mean:2399,Min:2330\n",
      "the 60th generation-> Mean:2351,Min:2175\n",
      "the 70th generation-> Mean:2212,Min:2102\n",
      "the 80th generation-> Mean:2143,Min:2071\n",
      "the 90th generation-> Mean:2125,Min:2010\n",
      "the 100th generation-> Mean:2058,Min:1976\n",
      "the 110th generation-> Mean:2022,Min:1960\n",
      "the 120th generation-> Mean:2014,Min:1960\n",
      "best cycle: [26, 22, 18, 14, 3, 7, 21, 1, 28, 13, 20, 19, 16, 15, 4, 10, 6, 25, 12, 8, 9, 17, 23, 24, 0, 27, 2, 5, 11]\n"
     ]
    },
    {
     "data": {
      "image/png": "[encoded data removed]",
      "text/plain": [
       "<Figure size 432x288 with 1 Axes>"
      ]
     },
     "metadata": {
      "needs_background": "light"
     },
     "output_type": "display_data"
    }
   ],
   "source": [
    "size,mat = getMat('bayg29.tsp')\n",
    "\n",
    "sp = 1000\n",
    "pc = 50\n",
    "Prep = 50\n",
    "mutRate = 10\n",
    "\n",
    "res = runAlgorithm('proportional')"
   ]
  },
  {
   "cell_type": "markdown",
   "id": "7bd83460",
   "metadata": {},
   "source": [
    "it's get better! now let's increase population more"
   ]
  },
  {
   "cell_type": "markdown",
   "id": "1fa17965",
   "metadata": {},
   "source": [
    "----------------------------------------------------------------------------------------------------------------------"
   ]
  },
  {
   "cell_type": "code",
   "execution_count": 60,
   "id": "277eb5e4",
   "metadata": {},
   "outputs": [
    {
     "name": "stdout",
     "output_type": "stream",
     "text": [
      "the first generation-> Mean:4741,Min:3419\n",
      "the 30th generation-> Mean:3136,Min:2229\n",
      "the 60th generation-> Mean:2150,Min:2046\n",
      "the 90th generation-> Mean:2037,Min:1936\n",
      "the 120th generation-> Mean:1993,Min:1885\n",
      "the 150th generation-> Mean:1996,Min:1885\n",
      "the 151th(last) generation-> Mean:1996,Min:1885\n",
      "best cycle: [23, 7, 26, 22, 6, 24, 18, 15, 1, 9, 3, 14, 10, 21, 16, 13, 17, 19, 20, 0, 27, 5, 11, 8, 4, 25, 2, 28, 12]\n"
     ]
    },
    {
     "data": {
      "image/png": "[encoded data removed]",
      "text/plain": [
       "<Figure size 432x288 with 1 Axes>"
      ]
     },
     "metadata": {
      "needs_background": "light"
     },
     "output_type": "display_data"
    }
   ],
   "source": [
    "size,mat = getMat('bayg29.tsp')\n",
    "\n",
    "sp = 10000\n",
    "pc = 40\n",
    "Prep = 30\n",
    "mutRate = 10\n",
    "\n",
    "res = runAlgorithm('proportional')"
   ]
  },
  {
   "cell_type": "code",
   "execution_count": 61,
   "id": "859c513d",
   "metadata": {},
   "outputs": [
    {
     "name": "stdout",
     "output_type": "stream",
     "text": [
      "the first generation-> Mean:4731,Min:3098\n",
      "the 30th generation-> Mean:2854,Min:2460\n",
      "the 60th generation-> Mean:2356,Min:2153\n",
      "the 90th generation-> Mean:2125,Min:1987\n",
      "the 120th generation-> Mean:1999,Min:1968\n",
      "the 150th generation-> Mean:2000,Min:1968\n",
      "the 163th(last) generation-> Mean:1998,Min:1968\n",
      "best cycle: [28, 8, 11, 27, 7, 26, 22, 6, 24, 18, 15, 12, 23, 0, 5, 20, 1, 2, 17, 13, 16, 21, 10, 14, 3, 9, 19, 4, 25]\n"
     ]
    },
    {
     "data": {
      "image/png": "[encoded data removed]",
      "text/plain": [
       "<Figure size 432x288 with 1 Axes>"
      ]
     },
     "metadata": {
      "needs_background": "light"
     },
     "output_type": "display_data"
    }
   ],
   "source": [
    "size,mat = getMat('bayg29.tsp')\n",
    "\n",
    "sp = 10000\n",
    "pc = 20\n",
    "Prep = 20\n",
    "mutRate = 10\n",
    "\n",
    "res = runAlgorithm('proportional')"
   ]
  },
  {
   "cell_type": "markdown",
   "id": "6861e950",
   "metadata": {},
   "source": [
    "it's get a lot better! "
   ]
  },
  {
   "cell_type": "markdown",
   "id": "b74f5fbc",
   "metadata": {},
   "source": [
    "----------------------------------------------------------------------------------------------------------------------"
   ]
  },
  {
   "cell_type": "markdown",
   "id": "099066f7",
   "metadata": {},
   "source": [
    "## Extra Parts"
   ]
  },
  {
   "cell_type": "markdown",
   "id": "86706b10",
   "metadata": {},
   "source": [
    "### This function decode gr229 file to adjacency matrix"
   ]
  },
  {
   "cell_type": "code",
   "execution_count": 62,
   "id": "2610d8d8",
   "metadata": {},
   "outputs": [],
   "source": [
    "def getMat2(path):\n",
    "    def dist(i,j):\n",
    "        res = sqrt((nodes[i][0]-nodes[j][0])**2+(nodes[i][1]-nodes[j][1])**2)\n",
    "        return int(res)\n",
    "    \n",
    "    f = open(path)\n",
    "    inp = f.read()\n",
    "    f.close()\n",
    "    nodes = [(float(e.split()[1]),float(e.split()[2])) for e in inp.split('\\n')[7:-2]]\n",
    "    mat = [[dist(i,j) for j in range(len(nodes))] for i in range(len(nodes))]\n",
    "    return len(mat),mat"
   ]
  },
  {
   "cell_type": "code",
   "execution_count": 72,
   "id": "8b456a4a",
   "metadata": {},
   "outputs": [
    {
     "name": "stdout",
     "output_type": "stream",
     "text": [
      "the first generation-> Mean:15808,Min:13890\n",
      "the 50th generation-> Mean:11997,Min:10932\n",
      "the 100th generation-> Mean:10299,Min:10032\n",
      "the 150th generation-> Mean:9623,Min:9424\n",
      "the 200th generation-> Mean:9238,Min:9046\n",
      "the 250th generation-> Mean:8820,Min:8643\n",
      "the 300th generation-> Mean:8481,Min:8338\n",
      "the 350th generation-> Mean:8230,Min:8012\n",
      "the 400th generation-> Mean:7858,Min:7688\n",
      "the 450th generation-> Mean:7589,Min:7443\n",
      "the 500th generation-> Mean:7385,Min:7233\n",
      "the 550th generation-> Mean:7203,Min:7076\n",
      "the 600th generation-> Mean:7038,Min:6907\n",
      "the 650th generation-> Mean:6818,Min:6700\n",
      "the 700th generation-> Mean:6704,Min:6591\n",
      "the 750th generation-> Mean:6615,Min:6497\n",
      "the 800th generation-> Mean:6489,Min:6360\n",
      "the 850th generation-> Mean:6372,Min:6234\n",
      "the 900th generation-> Mean:6281,Min:6154\n",
      "the 950th generation-> Mean:6183,Min:6071\n",
      "the 1000th generation-> Mean:6073,Min:5962\n",
      "the 1050th generation-> Mean:6007,Min:5886\n",
      "the 1100th generation-> Mean:5919,Min:5805\n",
      "the 1150th generation-> Mean:5863,Min:5736\n",
      "the 1200th generation-> Mean:5801,Min:5685\n",
      "the 1250th generation-> Mean:5759,Min:5642\n",
      "the 1300th generation-> Mean:5742,Min:5634\n",
      "the 1350th generation-> Mean:5729,Min:5604\n",
      "the 1400th generation-> Mean:5682,Min:5578\n",
      "the 1450th generation-> Mean:5661,Min:5559\n",
      "the 1500th generation-> Mean:5669,Min:5549\n",
      "the 1550th generation-> Mean:5649,Min:5541\n",
      "the 1581th(last) generation-> Mean:5659,Min:5541\n",
      "best cycle: [69, 73, 98, 165, 38, 44, 220, 210, 158, 160, 46, 31, 107, 85, 24, 15, 4, 56, 58, 70, 121, 120, 118, 125, 124, 183, 48, 199, 205, 154, 146, 151, 161, 131, 110, 119, 112, 87, 36, 32, 26, 20, 17, 54, 63, 74, 37, 176, 175, 189, 214, 147, 140, 138, 178, 167, 168, 116, 105, 94, 35, 76, 79, 60, 59, 223, 224, 217, 225, 65, 57, 88, 127, 143, 153, 209, 221, 222, 42, 188, 41, 182, 134, 139, 128, 114, 29, 14, 16, 2, 67, 34, 103, 40, 180, 177, 186, 197, 144, 150, 155, 156, 201, 190, 47, 45, 39, 171, 142, 204, 211, 157, 173, 108, 0, 3, 7, 1, 25, 13, 61, 80, 23, 84, 89, 75, 72, 71, 101, 141, 172, 185, 191, 43, 184, 162, 132, 28, 27, 83, 53, 77, 78, 100, 97, 91, 19, 52, 55, 82, 86, 122, 145, 152, 206, 219, 218, 192, 193, 49, 194, 198, 179, 166, 106, 111, 200, 208, 213, 212, 207, 203, 163, 164, 129, 68, 22, 11, 9, 50, 66, 92, 93, 99, 96, 181, 187, 149, 148, 135, 133, 123, 109, 113, 117, 95, 30, 21, 81, 64, 8, 5, 6, 228, 227, 216, 226, 51, 18, 90, 102, 115, 137, 159, 196, 130, 104, 10, 12, 33, 169, 170, 136, 202, 215, 195, 174, 126, 62]\n"
     ]
    },
    {
     "data": {
      "image/png": "[encoded data removed]",
      "text/plain": [
       "<Figure size 432x288 with 1 Axes>"
      ]
     },
     "metadata": {
      "needs_background": "light"
     },
     "output_type": "display_data"
    }
   ],
   "source": [
    "size,mat = getMat2('gr229.tsp')\n",
    "\n",
    "sp = 1000\n",
    "pc = 60\n",
    "Prep = 40\n",
    "mutRate = 5\n",
    "\n",
    "res = runAlgorithm('proportional')"
   ]
  },
  {
   "cell_type": "markdown",
   "id": "c824017b",
   "metadata": {},
   "source": [
    "This is the best i can get out of this testcase!"
   ]
  },
  {
   "cell_type": "code",
   "execution_count": 69,
   "id": "579f100f",
   "metadata": {},
   "outputs": [],
   "source": [
    "def getMat3(path):\n",
    "    def dist(i,j):\n",
    "        res = sqrt((nodes[i][0]-nodes[j][0])**2+(nodes[i][1]-nodes[j][1])**2)\n",
    "        return int(res)\n",
    "    \n",
    "    f = open(path)\n",
    "    inp = f.read()\n",
    "    f.close()\n",
    "\n",
    "    nodes = [(float(e.split()[1]),float(e.split()[2])) for e in inp.split('\\n')[6:-1]]\n",
    "\n",
    "    mat = [[dist(i,j) for j in range(len(nodes))] for i in range(len(nodes))]\n",
    "    return len(mat),mat"
   ]
  },
  {
   "cell_type": "code",
   "execution_count": 75,
   "id": "6e6fdc89",
   "metadata": {},
   "outputs": [
    {
     "name": "stdout",
     "output_type": "stream",
     "text": [
      "the first generation-> Mean:6450633,Min:6232338\n",
      "the 200th generation-> Mean:5389304,Min:5308920\n",
      "the 400th generation-> Mean:5080881,Min:5019482\n",
      "the 600th generation-> Mean:4865058,Min:4799816\n",
      "the 800th generation-> Mean:4730613,Min:4650097\n",
      "the 1000th generation-> Mean:4651299,Min:4570462\n",
      "the 1200th generation-> Mean:4576336,Min:4510439\n",
      "the 1400th generation-> Mean:4505364,Min:4418584\n",
      "the 1600th generation-> Mean:4445883,Min:4350990\n",
      "the 1800th generation-> Mean:4383312,Min:4309761\n",
      "the 2000th generation-> Mean:4357053,Min:4250404\n",
      "the 2200th generation-> Mean:4295704,Min:4195366\n",
      "the 2400th generation-> Mean:4242376,Min:4148477\n",
      "the 2600th generation-> Mean:4188452,Min:4090676\n",
      "the 2800th generation-> Mean:4116219,Min:4023812\n",
      "the 3000th generation-> Mean:4072166,Min:3979081\n",
      "the 3200th generation-> Mean:4042387,Min:3952890\n",
      "the 3400th generation-> Mean:4008714,Min:3894586\n",
      "the 3456th(last) generation-> Mean:3981948,Min:3886342\n",
      "best cycle: [864, 441, 316, 425, 963, 794, 575, 476, 303, 122, 121, 219, 844, 468, 229, 269, 86, 97, 993, 815, 552, 631, 955, 913, 875, 988, 725, 944, 729, 659, 367, 116, 205, 482, 423, 16, 63, 428, 486, 180, 239, 570, 271, 464, 430, 542, 284, 351, 660, 718, 987, 877, 699, 172, 189, 607, 756, 753, 546, 914, 824, 554, 996, 586, 520, 917, 898, 746, 420, 291, 302, 941, 583, 580, 535, 497, 212, 368, 989, 940, 960, 697, 770, 737, 798, 527, 933, 722, 677, 991, 286, 158, 124, 483, 806, 724, 760, 796, 349, 451, 446, 540, 525, 995, 242, 246, 91, 257, 214, 365, 819, 516, 544, 545, 509, 151, 962, 706, 712, 532, 484, 50, 105, 15, 611, 635, 592, 839, 916, 776, 695, 751, 903, 791, 740, 743, 966, 856, 613, 304, 150, 113, 409, 381, 641, 314, 7, 48, 332, 471, 702, 649, 953, 937, 943, 764, 817, 539, 455, 457, 408, 590, 371, 668, 957, 674, 721, 362, 472, 469, 744, 395, 47, 28, 289, 429, 463, 145, 164, 369, 453, 477, 278, 174, 177, 153, 487, 935, 310, 262, 217, 493, 225, 829, 805, 514, 199, 55, 4, 337, 12, 465, 793, 703, 858, 926, 978, 35, 19, 117, 81, 319, 33, 23, 31, 184, 157, 488, 563, 823, 579, 118, 252, 178, 152, 232, 536, 859, 873, 551, 803, 345, 313, 134, 129, 434, 410, 728, 949, 783, 837, 895, 884, 648, 287, 951, 406, 37, 88, 149, 120, 282, 236, 155, 604, 932, 910, 727, 341, 353, 296, 531, 528, 868, 627, 679, 352, 75, 146, 233, 235, 168, 170, 658, 886, 617, 328, 72, 248, 334, 46, 501, 478, 929, 769, 849, 754, 959, 841, 893, 622, 973, 691, 577, 273, 182, 171, 481, 230, 267, 422, 191, 196, 70, 74, 275, 780, 681, 670, 974, 942, 782, 880, 908, 689, 741, 473, 115, 102, 21, 605, 615, 714, 405, 298, 306, 6, 34, 90, 66, 256, 247, 280, 639, 651, 370, 260, 198, 208, 183, 495, 566, 892, 835, 436, 565, 203, 43, 445, 384, 385, 285, 112, 661, 950, 784, 999, 799, 851, 810, 676, 720, 984, 860, 866, 845, 912, 698, 650, 636, 438, 194, 426, 717, 975, 779, 656, 643, 357, 630, 110, 138, 258, 126, 726, 739, 1000, 762, 773, 786, 502, 24, 857, 862, 870, 775, 883, 530, 853, 822, 77, 65, 41, 684, 979, 333, 67, 494, 223, 387, 342, 29, 62, 17, 69, 678, 952, 931, 600, 897, 435, 159, 329, 685, 992, 505, 503, 749, 707, 647, 734, 185, 308, 98, 407, 330, 14, 18, 26, 27, 461, 474, 652, 346, 375, 755, 572, 450, 210, 259, 797, 986, 812, 814, 588, 344, 394, 283, 40, 61, 78, 57, 624, 811, 524, 398, 399, 82, 290, 323, 136, 561, 559, 867, 827, 790, 757, 774, 372, 347, 645, 276, 297, 79, 101, 504, 507, 529, 813, 616, 807, 515, 593, 292, 100, 147, 274, 322, 666, 789, 680, 672, 759, 885, 821, 518, 902, 415, 675, 187, 459, 3, 13, 10, 411, 377, 373, 591, 485, 506, 320, 315, 299, 241, 597, 832, 905, 686, 327, 68, 311, 392, 467, 250, 781, 752, 190, 94, 85, 76, 107, 154, 89, 307, 977, 690, 211, 475, 521, 564, 560, 621, 578, 842, 517, 176, 142, 254, 558, 768, 792, 264, 339, 694, 836, 833, 224, 195, 166, 169, 433, 73, 127, 228, 336, 969, 417, 584, 787, 766, 976, 567, 571, 595, 585, 452, 93, 133, 179, 270, 281, 412, 51, 361, 382, 397, 374, 402, 58, 130, 143, 890, 899, 927, 874, 709, 550, 980, 440, 238, 131, 165, 642, 634, 606, 894, 830, 869, 846, 772, 390, 30, 324, 632, 251, 557, 809, 925, 889, 548, 555, 533, 638, 360, 653, 619, 87, 32, 293, 144, 997, 36, 711, 192, 175, 215, 204, 200, 216, 416, 0, 53, 71, 800, 865, 891, 831, 343, 38, 581, 266, 458, 20, 500, 513, 854, 887, 876, 919, 840, 447, 83, 45, 383, 939, 771, 896, 918, 1001, 537, 818, 834, 568, 227, 221, 682, 747, 788, 900, 923, 843, 562, 523, 443, 376, 655, 380, 103, 312, 403, 119, 574, 945, 871, 522, 167, 139, 418, 309, 128, 802, 879, 618, 738, 716, 664, 427, 414, 954, 730, 646, 404, 348, 265, 161, 197, 547, 719, 340, 662, 715, 696, 39, 490, 512, 998, 519, 610, 148, 52, 8, 356, 363, 84, 108, 226, 511, 499, 181, 243, 424, 378, 354, 640, 921, 220, 496, 202, 218, 261, 305, 1, 109, 396, 364, 553, 736, 628, 745, 601, 393, 983, 263, 42, 80, 25, 401, 321, 882, 881, 538, 576, 388, 460, 872, 700, 920, 961, 693, 748, 644, 637, 508, 828, 732, 758, 924, 556, 439, 335, 633, 958, 688, 667, 767, 938, 449, 268, 104, 249, 54, 22, 358, 626, 188, 466, 470, 713, 971, 965, 549, 852, 785, 863, 855, 850, 795, 609, 456, 419, 692, 704, 970, 915, 623, 431, 750, 816, 904, 804, 132, 106, 379, 442, 421, 629, 936, 930, 777, 888, 906, 413, 111, 222, 234, 193, 526, 967, 911, 907, 947, 657, 135, 96, 60, 11, 391, 826, 541, 620, 207, 162, 253, 272, 878, 602, 294, 437, 492, 861, 701, 946, 982, 683, 708, 985, 673, 366, 723, 733, 663, 432, 125, 186, 206, 582, 386, 279, 990, 49, 9, 5, 2, 137, 569, 479, 589, 594, 778, 934, 244, 160, 338, 625, 614, 612, 608, 763, 731, 928, 901, 587, 599, 510, 240, 489, 909, 669, 355, 317, 140, 300, 245, 237, 141, 99, 543, 573, 742, 808, 491, 448, 603, 462, 665, 687, 710, 654, 968, 972, 671, 359, 454, 213, 173, 201, 498, 534, 114, 56, 331, 964, 948, 444, 156, 231, 596, 825, 480, 318, 64, 59, 295, 761, 350, 325, 277, 123, 301, 705, 735, 956, 801, 848, 922, 765, 95, 994, 820, 598, 400, 326, 389, 981, 838, 163, 209, 255, 92, 288, 44, 847]\n"
     ]
    },
    {
     "data": {
      "image/png": "[encoded data removed]",
      "text/plain": [
       "<Figure size 432x288 with 1 Axes>"
      ]
     },
     "metadata": {
      "needs_background": "light"
     },
     "output_type": "display_data"
    }
   ],
   "source": [
    "size,mat = getMat3('pr1002.tsp')\n",
    "\n",
    "sp = 500\n",
    "pc = 40\n",
    "Prep = 50\n",
    "mutRate = 20\n",
    "\n",
    "res = runAlgorithm('proportional')"
   ]
  },
  {
   "cell_type": "markdown",
   "id": "b44a4166",
   "metadata": {},
   "source": [
    "----------------------------------------------------------------------------------------------------------------------"
   ]
  },
  {
   "cell_type": "markdown",
   "id": "5ea402a3",
   "metadata": {},
   "source": [
    "## So what just happend?"
   ]
  },
  {
   "cell_type": "markdown",
   "id": "41279340",
   "metadata": {},
   "source": [
    "\n",
    "\n",
    "we should control mean and minimum. when mean get so close to minimum of a generation, this means that the standard deviation is low and the genetic diversity of our generation is low. So the convergence happend very quickly on some local result and the algorithm stop searching for better generation.\n",
    "in this case we can do this things:\n",
    "1. increase mutation rate\n",
    "2. increase the percent of choromosoms that choose to be parents not just the better one.\n",
    "3. decrease the replacement rate and save more choromosoms from previous generation\n",
    "\n",
    "also we can get better result by decreasing our generation population. "
   ]
  }
 ],
 "metadata": {
  "kernelspec": {
   "display_name": "Python 3",
   "language": "python",
   "name": "python3"
  },
  "language_info": {
   "codemirror_mode": {
    "name": "ipython",
    "version": 3
   },
   "file_extension": ".py",
   "mimetype": "text/x-python",
   "name": "python",
   "nbconvert_exporter": "python",
   "pygments_lexer": "ipython3",
   "version": "3.9.5"
  }
 },
 "nbformat": 4,
 "nbformat_minor": 5
}
